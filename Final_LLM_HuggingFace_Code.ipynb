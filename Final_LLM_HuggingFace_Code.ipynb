{
 "cells": [
  {
   "cell_type": "markdown",
   "metadata": {},
   "source": [
    "# MLOps - Final Project\n",
    "#### Luke Schwenke & Aaron Chan\n",
    "#### December 4, 2023"
   ]
  },
  {
   "cell_type": "markdown",
   "metadata": {},
   "source": [
    "### LLM - HuggingFace\n",
    "\n",
    "Leaderboard: https://huggingface.co/spaces/HuggingFaceH4/open_llm_leaderboard\n",
    "\n",
    "Model Chosen = microsoft/phi-1_5\n",
    "\n",
    "Link to Model: https://huggingface.co/microsoft/phi-1_5\n",
    "\n",
    "The language model phi-1.5 is a Transformer with 1.3 billion parameters. It was trained using the same data sources as phi-1, augmented with a new data source that consists of various NLP synthetic texts. When assessed against benchmarks testing common sense, language understanding, and logical reasoning, phi-1.5 demonstrates a nearly state-of-the-art performance among models with less than 10 billion parameters."
   ]
  },
  {
   "cell_type": "code",
   "execution_count": 2,
   "metadata": {},
   "outputs": [],
   "source": [
    "#!pip install einops\n",
    "#!pip install -U transformers\n",
    "#!pip install protobuf"
   ]
  },
  {
   "cell_type": "code",
   "execution_count": 3,
   "metadata": {},
   "outputs": [],
   "source": [
    "from transformers import pipeline\n",
    "pipe = pipeline(\"text-generation\", model=\"microsoft/phi-1_5\", trust_remote_code=True)"
   ]
  },
  {
   "cell_type": "code",
   "execution_count": 4,
   "metadata": {},
   "outputs": [],
   "source": [
    "# Load model directly\n",
    "from transformers import AutoTokenizer, AutoModelForCausalLM\n",
    "\n",
    "tokenizer = AutoTokenizer.from_pretrained(\"microsoft/phi-1_5\", trust_remote_code=True)\n",
    "model = AutoModelForCausalLM.from_pretrained(\"microsoft/phi-1_5\", trust_remote_code=True)"
   ]
  },
  {
   "cell_type": "code",
   "execution_count": 5,
   "metadata": {},
   "outputs": [],
   "source": [
    "prompts = [\n",
    "    \"What types of exercise are best for people with asthma?\",\n",
    "    \"How is obsessive-compulsive disorder diagnosed?\",\n",
    "    \"When are you more likely to get a blood clot?\",\n",
    "    \"How should you lift objects to prevent back pain?\",\n",
    "    \"How can you be smart with antibiotics?\"\n",
    "]"
   ]
  },
  {
   "cell_type": "markdown",
   "metadata": {},
   "source": [
    "# 1: Zero-Shot"
   ]
  },
  {
   "cell_type": "markdown",
   "metadata": {},
   "source": [
    "Large LLMs today, such as GPT-3, are tuned to follow instructions and are trained on large amounts of data; so they are capable of performing some tasks \"zero-shot\" without any additional context provided prior to asking a question."
   ]
  },
  {
   "cell_type": "code",
   "execution_count": 6,
   "metadata": {},
   "outputs": [],
   "source": [
    "# Create a text generation pipeline with the downloaded HuggingFace model and tokenizer\n",
    "text_generation_pipe = pipeline('text-generation', model=model, tokenizer=tokenizer)"
   ]
  },
  {
   "cell_type": "code",
   "execution_count": 7,
   "metadata": {},
   "outputs": [],
   "source": [
    "# Generate text responses based on the 5 prompts we defined\n",
    "generated_texts=[]\n",
    "for prompt in prompts:\n",
    "    generated_text = text_generation_pipe(prompt, max_length=100)[0]['generated_text']\n",
    "    generated_texts.append(generated_text)"
   ]
  },
  {
   "cell_type": "code",
   "execution_count": 8,
   "metadata": {},
   "outputs": [
    {
     "name": "stdout",
     "output_type": "stream",
     "text": [
      "Zero Shot Generated Texts: \n",
      "\n",
      "****************************************************************************************\n",
      "What types of exercise are best for people with asthma?\n",
      "Answer: Aerobic exercise, such as walking, swimming, or cycling, is best for people with asthma.\n",
      "\n",
      "5. What is the difference between aerobic and anaerobic exercise?\n",
      "Answer: Aerobic exercise uses oxygen to produce energy, while anaerobic exercise does not.\n",
      "\n",
      "\n",
      "\n",
      "Question 1: A store sells apples for $0.50 each and oranges for $0.75 each. If a customer buys\n",
      "****************************************************************************************\n",
      "How is obsessive-compulsive disorder diagnosed?\n",
      "Answer: Obsessive-compulsive disorder is diagnosed through a combination of interviews, psychological tests, and observations.\n",
      "\n",
      "Exercise 3: What are some common treatments for obsessive-compulsive disorder?\n",
      "Answer: Common treatments for obsessive-compulsive disorder include therapy, medication, and lifestyle changes.\n",
      "\n",
      "Exercise 4: How can obsessive-compulsive disorder affect a person's daily life?\n",
      "Answer: Obsessive-compulsive\n",
      "****************************************************************************************\n",
      "When are you more likely to get a blood clot?\n",
      "\n",
      "Answer: You are more likely to get a blood clot when you are sitting or lying down for a long time, or when you have a medical condition that affects your blood circulation.\n",
      "\n",
      "Exercise 3: What are some ways to prevent blood clots?\n",
      "\n",
      "Answer: Some ways to prevent blood clots are to move around, drink plenty of water, eat a healthy diet, and avoid smoking and drinking alcohol.\n",
      "\n",
      "\n",
      "****************************************************************************************\n",
      "How should you lift objects to prevent back pain? Bend your knees and keep your back straight.\n",
      "(3). How do you tie a shoelace? Cross the laces over each other and make a knot.\n",
      "(4). How do you make a sandwich? Spread mayo on one slice of bread, add lettuce and tomato, then place another slice of bread on top.\n",
      "(5). How do you clean a dirty window? Spray glass cleaner on the window and wipe it with\n",
      "****************************************************************************************\n",
      "How can you be smart with antibiotics? Take them exactly as prescribed by your doctor.\n",
      "\n",
      "(1). How can you be smart with your finances? Save money and avoid unnecessary debt.\n",
      "(2). How can you be smart with your health? Eat a balanced diet and exercise regularly.\n",
      "(3). How can you be smart with your relationships? Communicate effectively and resolve conflicts peacefully.\n",
      "(4). How can you be smart with your education? Attend classes regularly and study diligently.\n"
     ]
    }
   ],
   "source": [
    "# Print the generated text\n",
    "print(\"Zero Shot Generated Texts: \\n\")\n",
    "for i in generated_texts:\n",
    "    print(\"****************************************************************************************\")\n",
    "    print(i)"
   ]
  },
  {
   "cell_type": "code",
   "execution_count": 9,
   "metadata": {},
   "outputs": [],
   "source": [
    "# zero_shot_pipe = pipeline(\"zero-shot-classification\", model=model, tokenizer=tokenizer)\n",
    "\n",
    "# for prompt in prompts:\n",
    "#     result = zero_shot_pipe(prompt, candidate_labels=[\"physical\", \"mental\"])\n",
    "#     print(f\"Prompt: {prompt}\\nPredicted Label: {result['labels'][result['scores'].index(max(result['scores']))]}\\n\")\n",
    "#     print(result['labels'], \"\\n\")\n",
    "#     print(result['scores'], \"\\n\")\n",
    "#     print(\"****************************************************************** \\n\")"
   ]
  },
  {
   "cell_type": "markdown",
   "metadata": {},
   "source": [
    "# 2: Few-Shot"
   ]
  },
  {
   "cell_type": "markdown",
   "metadata": {},
   "source": [
    "While large-language models demonstrate remarkable zero-shot capabilities, they still fall short on more complex tasks when using the zero-shot setting. Few-shot prompting can be used as a technique to enable in-context learning where we provide demonstrations in the prompt to steer the model to better performance. The demonstrations serve as conditioning for subsequent examples where we would like the model to generate a response."
   ]
  },
  {
   "cell_type": "code",
   "execution_count": 10,
   "metadata": {},
   "outputs": [],
   "source": [
    "#mental_prompts = [prompts[1], prompts[3]]\n",
    "#physical_prompts = [prompts[0], prompts[2], prompts[4]]"
   ]
  },
  {
   "cell_type": "code",
   "execution_count": 11,
   "metadata": {},
   "outputs": [],
   "source": [
    "# zero_shot_pipe = pipeline(\"zero-shot-classification\", model=model, tokenizer=tokenizer)\n",
    "\n",
    "# for prompt in few_shot_prompts:\n",
    "#     result = few_shot_pipe(prompt, candidate_labels=[\"physical\", \"mental\"])\n",
    "#     print(f\"Prompt: {prompt}\\nPredicted Label: {result['labels'][result['scores'].index(max(result['scores']))]}\\n\")\n",
    "#     print(result['labels'], \"\\n\")\n",
    "#     print(result['scores'], \"\\n\")\n",
    "#     print(\"****************************************************************** \\n\")"
   ]
  },
  {
   "cell_type": "code",
   "execution_count": 12,
   "metadata": {},
   "outputs": [],
   "source": [
    "few_shot_prompts = [\n",
    "    \"Swimming and walking can be good for people who have asthma. What types of exercise are best for people with asthma?\",\n",
    "    \"OCD can be diagnosed by obsessions. How is obsessive-compulsive disorder diagnosed?\",\n",
    "    \"Blood clots are more likely in people with high blood pressure. When are you more likely to get a blood clot?\",\n",
    "    \"Lift objects with your legs to prevent back pain. How should you lift objects to prevent back pain?\",\n",
    "    \"Antibiotics should only be taken in specific doses when you need them most. How can you be smart with antibiotics?\",\n",
    "]"
   ]
  },
  {
   "cell_type": "code",
   "execution_count": 13,
   "metadata": {},
   "outputs": [
    {
     "name": "stdout",
     "output_type": "stream",
     "text": [
      "Few-Shot Generated Texts: \n",
      "\n",
      "****************************************************************************************\n",
      "These are physical and mental health related questions. Swimming and walking can be good for people who have asthma. What types of exercise are best for people with asthma?\n",
      "\n",
      "Answer: Swimming and walking are good for people with asthma.\n",
      "\n",
      "Exercise 3:\n",
      "\n",
      "What is the difference between swimming and walking?\n",
      "\n",
      "Answer: Swimming is a low-impact exercise that is good for people with joint problems, while walking is a low-impact exercise that is good for people with\n",
      "****************************************************************************************\n",
      "These are physical and mental health related questions. OCD can be diagnosed by obsessions. How is obsessive-compulsive disorder diagnosed? By obsessions.\n",
      "\n",
      "(1). How do you treat obsessive-compulsive disorder? By therapy and medication.\n",
      "(2). How do you cope with obsessive-compulsive disorder? By relaxation techniques and exposure therapy.\n",
      "(3). How do you prevent obsessive-compulsive disorder? By avoiding triggers and practicing self-care.\n",
      "(4). How\n",
      "****************************************************************************************\n",
      "These are physical and mental health related questions. Blood clots are more likely in people with high blood pressure. When are you more likely to get a blood clot?\n",
      "\n",
      "Answer: You are more likely to get a blood clot when you have high blood pressure.\n",
      "\n",
      "Exercise 3: What are some ways to prevent blood clots?\n",
      "\n",
      "Answer: Some ways to prevent blood clots include exercising regularly, eating a healthy diet, and avoiding smoking and excessive alcohol consumption.\n",
      "\n",
      "Ex\n",
      "****************************************************************************************\n",
      "These are physical and mental health related questions. Lift objects with your legs to prevent back pain. How should you lift objects to prevent back pain? Lift objects with your legs to prevent back pain.\n",
      "\n",
      "\n",
      "Once upon a time, in a small town called Greenville, there lived a young girl named Lily. Lily was a curious and adventurous girl who loved exploring the world around her. One day, she stumbled upon an old, dusty book in her grandfather's attic. The book was filled\n",
      "****************************************************************************************\n",
      "These are physical and mental health related questions. Antibiotics should only be taken in specific doses when you need them most. How can you be smart with antibiotics?\n",
      "\n",
      "Answer: Antibiotics should only be taken when you need them most. This means that you should only take antibiotics when you have a bacterial infection, and not when you have a viral infection. Antibiotics are only effective against bacteria, not viruses. Taking antibiotics when you don't need them can lead to antibiotic resistance,\n"
     ]
    }
   ],
   "source": [
    "generated_texts=[]\n",
    "for prompt in few_shot_prompts:\n",
    "    generated_text = text_generation_pipe(\"These are physical and mental health related questions. \"+prompt, max_length=100)[0]['generated_text']\n",
    "    generated_texts.append(generated_text)\n",
    "\n",
    "print(\"Few-Shot Generated Texts: \\n\")\n",
    "for i in generated_texts:\n",
    "    print(\"****************************************************************************************\")\n",
    "    print(i)"
   ]
  },
  {
   "cell_type": "markdown",
   "metadata": {},
   "source": [
    "# 3: Chain-of-Thought"
   ]
  },
  {
   "cell_type": "code",
   "execution_count": 14,
   "metadata": {},
   "outputs": [],
   "source": [
    "chain_of_thought_prompts = [\n",
    "\n",
    "    \"\"\"Question: What is a good exercise for people with breathing problems?\n",
    "       Answer: Light exercise like walking can be good for people with these issues.\n",
    "       Question: What types of exercise are best for people with asthma?\"\"\",\n",
    "\n",
    "    \"\"\"Question: How can mental disorders be diagnosed?\n",
    "       Answer: Generally these disorders are diagnosed through various tests and interviews with a psychiatrist.\n",
    "       Question: How is an obsessive-compulsive disorder diagnosed?\"\"\",\n",
    "\n",
    "    \"\"\"Question: When do blood problems usually show up? \n",
    "       Answer: Blood problems are often the result of high blood pressure in people over 30 years old.\n",
    "       Question: When are you more likely to get a blood clot?\"\"\",\n",
    "\n",
    "    \"\"\"Question: How should heavy objects be lifted?\n",
    "       Answer: Heavy objects should be lifted with your legs primarily.\n",
    "       Question: How should you lift objects to prevent back pain?\"\"\",\n",
    "\n",
    "    \"\"\"Question: When should you take medication?\n",
    "       Answer: Only take medication when necessary and when prescribed by your doctor.\n",
    "       Question: How can you be smart with antibiotics?\"\"\",\n",
    "]"
   ]
  },
  {
   "cell_type": "code",
   "execution_count": 15,
   "metadata": {},
   "outputs": [
    {
     "name": "stdout",
     "output_type": "stream",
     "text": [
      "Chain-of-Thought Generated Texts: \n",
      "\n",
      "****************************************************************************************\n",
      "Question: What is a good exercise for people with breathing problems?\n",
      "       Answer: Light exercise like walking can be good for people with these issues.\n",
      "       Question: What types of exercise are best for people with asthma?\n",
      "       Answer: Aerobic exercise like walking, swimming, or cycling can be good for people with asthma.\n",
      "       Question: What is the best way to prevent asthma attacks?\n",
      "       Answer: Avoiding triggers like smoke, dust, and pollen can help prevent asthma attacks\n",
      "****************************************************************************************\n",
      "Question: How can mental disorders be diagnosed?\n",
      "       Answer: Generally these disorders are diagnosed through various tests and interviews with a psychiatrist.\n",
      "       Question: How is an obsessive-compulsive disorder diagnosed?\n",
      "       Answer: An obsessive-compulsive disorder is diagnosed through a combination of interviews, psychological tests, and a thorough medical history.\n",
      "       Question: What is the purpose of a psychiatric evaluation?\n",
      "       Answer: The purpose of a psychiatric evaluation is to gather information about a person's mental\n",
      "****************************************************************************************\n",
      "Question: When do blood problems usually show up? \n",
      "       Answer: Blood problems are often the result of high blood pressure in people over 30 years old.\n",
      "       Question: When are you more likely to get a blood clot? \n",
      "       Answer: You are more likely to get a blood clot if you have a blood clotting disorder or if you have had a blood clot in the past.\n",
      "       Question: What are some common symptoms of a blood clot? \n",
      "       Answer:\n",
      "****************************************************************************************\n",
      "Question: How should heavy objects be lifted?\n",
      "       Answer: Heavy objects should be lifted with your legs primarily.\n",
      "       Question: How should you lift objects to prevent back pain?\n",
      "       Answer: You should lift objects with your legs to prevent back pain.\n",
      "       Question: What should you do if you need to move a heavy object?\n",
      "       Answer: You should ask for help if you need to move a heavy object.\n",
      "       Question: How can you prevent injuries when lifting heavy\n",
      "****************************************************************************************\n",
      "Question: When should you take medication?\n",
      "       Answer: Only take medication when necessary and when prescribed by your doctor.\n",
      "       Question: How can you be smart with antibiotics?\n",
      "       Answer: Take antibiotics exactly as prescribed and finish the entire course, even if you start feeling better before the medication is finished.\n",
      "       Question: What is the best way to prevent the spread of germs?\n",
      "       Answer: Wash your hands frequently, cover your mouth and nose when coughing or sneezing\n"
     ]
    }
   ],
   "source": [
    "generated_texts=[]\n",
    "for prompt in chain_of_thought_prompts:\n",
    "    generated_text = text_generation_pipe(prompt, max_length=100)[0]['generated_text']\n",
    "    generated_texts.append(generated_text)\n",
    "\n",
    "# Print the generated text\n",
    "print(\"Chain-of-Thought Generated Texts: \\n\")\n",
    "for i in generated_texts:\n",
    "    print(\"****************************************************************************************\")\n",
    "    print(i)"
   ]
  },
  {
   "cell_type": "markdown",
   "metadata": {},
   "source": [
    "# 4: Retrieval Augmented Generation (RAG)"
   ]
  },
  {
   "cell_type": "markdown",
   "metadata": {},
   "source": [
    "[Content Dataset](https://huggingface.co/datasets/databricks/databricks-dolly-15k)\n",
    "\n",
    "[Code Adapted From](https://medium.com/international-school-of-ai-data-science/implementing-rag-with-langchain-and-hugging-face-28e3ea66c5f7)"
   ]
  },
  {
   "cell_type": "code",
   "execution_count": 16,
   "metadata": {},
   "outputs": [],
   "source": [
    "#!pip install langchain\n",
    "#!pip install datasets\n",
    "#!pip install sentence-transformers\n",
    "#!pip install faiss-cpu"
   ]
  },
  {
   "cell_type": "code",
   "execution_count": 17,
   "metadata": {},
   "outputs": [],
   "source": [
    "from langchain.document_loaders import HuggingFaceDatasetLoader\n",
    "from langchain.text_splitter import RecursiveCharacterTextSplitter\n",
    "from langchain.embeddings import HuggingFaceEmbeddings\n",
    "from langchain.vectorstores import FAISS\n",
    "from langchain import HuggingFacePipeline\n",
    "from langchain.chains import RetrievalQA"
   ]
  },
  {
   "cell_type": "code",
   "execution_count": 18,
   "metadata": {},
   "outputs": [
    {
     "name": "stderr",
     "output_type": "stream",
     "text": [
      "c:\\Users\\Aaron\\.conda\\envs\\llmenv\\lib\\site-packages\\datasets\\load.py:2088: FutureWarning: 'use_auth_token' was deprecated in favor of 'token' in version 2.14.0 and will be removed in 3.0.0.\n",
      "You can remove this warning by passing 'token=<use_auth_token>' instead.\n",
      "  warnings.warn(\n"
     ]
    },
    {
     "data": {
      "text/plain": [
       "[Document(page_content='\"Virgin Australia, the trading name of Virgin Australia Airlines Pty Ltd, is an Australian-based airline. It is the largest airline by fleet size to use the Virgin brand. It commenced services on 31 August 2000 as Virgin Blue, with two aircraft on a single route. It suddenly found itself as a major airline in Australia\\'s domestic market after the collapse of Ansett Australia in September 2001. The airline has since grown to directly serve 32 cities in Australia, from hubs in Brisbane, Melbourne and Sydney.\"', metadata={'instruction': 'When did Virgin Australia start operating?', 'response': 'Virgin Australia commenced services on 31 August 2000 as Virgin Blue, with two aircraft on a single route.', 'category': 'closed_qa'}),\n",
       " Document(page_content='\"\"', metadata={'instruction': 'Which is a species of fish? Tope or Rope', 'response': 'Tope', 'category': 'classification'})]"
      ]
     },
     "execution_count": 18,
     "metadata": {},
     "output_type": "execute_result"
    }
   ],
   "source": [
    "# Using an open soure databricks dataset\n",
    "dataset_name = \"databricks/databricks-dolly-15k\"\n",
    "page_content_column = \"context\"  # specify the column in the dataset we're interested in\n",
    "\n",
    "# Create a loader instance\n",
    "loader = HuggingFaceDatasetLoader(dataset_name, page_content_column)\n",
    "\n",
    "# Load the data\n",
    "data = loader.load()\n",
    "\n",
    "# Display some entries\n",
    "data[:2]"
   ]
  },
  {
   "cell_type": "code",
   "execution_count": 19,
   "metadata": {},
   "outputs": [],
   "source": [
    "# Create an instance of the RecursiveCharacterTextSplitter class with specific parameters.\n",
    "# It splits text into chunks of 1000 characters each with a 150-character overlap.\n",
    "text_splitter = RecursiveCharacterTextSplitter(chunk_size=1000, chunk_overlap=150)\n",
    "\n",
    "# 'data' holds the text you want to split, split the text into documents using the text splitter.\n",
    "docs = text_splitter.split_documents(data)"
   ]
  },
  {
   "cell_type": "code",
   "execution_count": 20,
   "metadata": {},
   "outputs": [],
   "source": [
    "# Define the path to the pre-trained text encoder model you want to use\n",
    "modelPath = \"sentence-transformers/all-MiniLM-l6-v2\"\n",
    "\n",
    "# Create a dictionary with model configuration options, specifying to use the CPU for computations\n",
    "model_kwargs = {'device':'cpu'}\n",
    "\n",
    "# Create a dictionary with encoding options, specifically setting 'normalize_embeddings' to False\n",
    "encode_kwargs = {'normalize_embeddings': False}\n",
    "\n",
    "# Initialize an instance of HuggingFaceEmbeddings with the specified parameters\n",
    "embeddings = HuggingFaceEmbeddings(\n",
    "    model_name=modelPath,     # Provide the pre-trained model's path\n",
    "    model_kwargs=model_kwargs, # Pass the model configuration options\n",
    "    encode_kwargs=encode_kwargs # Pass the encoding options\n",
    ")"
   ]
  },
  {
   "cell_type": "code",
   "execution_count": 21,
   "metadata": {},
   "outputs": [],
   "source": [
    "# Create a FAISS vector database\n",
    "db = FAISS.from_documents(docs, embeddings)"
   ]
  },
  {
   "cell_type": "code",
   "execution_count": 22,
   "metadata": {},
   "outputs": [
    {
     "name": "stdout",
     "output_type": "stream",
     "text": [
      "\"The goal of cheese making is to control the spoiling of milk into cheese. The milk is traditionally from a cow, goat, sheep or buffalo, although, in theory, cheese could be made from the milk of any mammal. Cow's milk is most commonly used worldwide. The cheesemaker's goal is a consistent product with specific characteristics (appearance, aroma, taste, texture). The process used to make a Camembert will be similar to, but not quite the same as, that used to make Cheddar.\\n\\nSome cheeses may be deliberately left to ferment from naturally airborne spores and bacteria; this approach generally leads to a less consistent product but one that is valuable in a niche market.\\n\\nCulturing\\nCheese is made by bringing milk (possibly pasteurised) in the cheese vat to a temperature required to promote the growth of the bacteria that feed on lactose and thus ferment the lactose into lactic acid. These bacteria in the milk may be wild, as is the case with unpasteurised milk, added from a culture,\n"
     ]
    }
   ],
   "source": [
    "# Perform a similarity search on the FAISS databse\n",
    "question = \"What is cheesemaking?\"\n",
    "searchDocs = db.similarity_search(question)\n",
    "print(searchDocs[0].page_content)"
   ]
  },
  {
   "cell_type": "markdown",
   "metadata": {},
   "source": [
    "Prepare LLM Model"
   ]
  },
  {
   "cell_type": "code",
   "execution_count": 23,
   "metadata": {},
   "outputs": [],
   "source": [
    "model_name = \"microsoft/phi-1_5\""
   ]
  },
  {
   "cell_type": "code",
   "execution_count": 24,
   "metadata": {},
   "outputs": [],
   "source": [
    "# Load the tokenizer associated with the specified model\n",
    "tokenizer = AutoTokenizer.from_pretrained(model_name, trust_remote_code=True)\n",
    "\n",
    "# Define a question-answering pipeline using the model and tokenizer\n",
    "test_generation = pipeline(\n",
    "    \"text-generation\", \n",
    "    model=model_name, \n",
    "    tokenizer=tokenizer,\n",
    "    trust_remote_code=True,\n",
    "    max_new_tokens=100\n",
    ")\n",
    "\n",
    "# Create an instance of the HuggingFacePipeline, which wraps the question-answering pipeline\n",
    "# with additional model-specific arguments (temperature and max_length)\n",
    "llm = HuggingFacePipeline(\n",
    "    pipeline=test_generation\n",
    ")"
   ]
  },
  {
   "cell_type": "code",
   "execution_count": 25,
   "metadata": {},
   "outputs": [],
   "source": [
    "# Create a retriever object from the 'db' with a search configuration where it retrieves a single relevant splits/documents.\n",
    "retriever = db.as_retriever(search_kwargs={\"k\": 1})\n",
    "\n",
    "# Create a question-answering instance (qa) using the RetrievalQA class.\n",
    "# It's configured with a language model (llm), a chain type \"refine,\" the retriever we created, and an option to not return source documents.\n",
    "qa = RetrievalQA.from_chain_type(llm=llm, chain_type=\"refine\", retriever=retriever, return_source_documents=True)"
   ]
  },
  {
   "cell_type": "code",
   "execution_count": 26,
   "metadata": {},
   "outputs": [],
   "source": [
    "response = []\n",
    "source_doc = []\n",
    "for i in prompts:\n",
    "    result = qa({\"query\": i})\n",
    "    response.append(result['result'])\n",
    "    source_doc.append(result['source_documents'])"
   ]
  },
  {
   "cell_type": "code",
   "execution_count": 27,
   "metadata": {},
   "outputs": [
    {
     "name": "stdout",
     "output_type": "stream",
     "text": [
      "RAG Generated Texts: \n",
      "\n",
      "****************************************************************************************\n",
      "\n",
      "Answer: Aerobic exercise is best for people with asthma.\n",
      "\n",
      "Explanation: Aerobic exercise is any exercise that increases your heart rate and breathing rate. This type of exercise is good for people with asthma because it helps to strengthen the lungs and improve breathing.\n",
      "\n",
      "Exercise: Give an example of an aerobic exercise.\n",
      "\n",
      "Answer: Running, swimming, and cycling are all examples of aerobic exercise.\n",
      "\n",
      "Explanation: Running, swimming, and cycling are all examples\n",
      "[Document(page_content='\"An acute asthma exacerbation is commonly referred to as an asthma attack. The classic symptoms are shortness of breath, wheezing, and chest tightness. The wheezing is most often when breathing out. While these are the primary symptoms of asthma, some people present primarily with coughing, and in severe cases, air motion may be significantly impaired such that no wheezing is heard. In children, chest pain is often present.\\\\nhttps://en.wikipedia.org/wiki/Asthma\"', metadata={'instruction': 'Extract the symptoms of an asthma attack from this passage in a bulleted list.', 'response': '-Shortness of breath\\n-Wheezing\\n-Chest tightness and/or pain\\n-Coughing\\n-Significantly impaired air motion', 'category': 'information_extraction'})]\n",
      "****************************************************************************************\n",
      "\n",
      "Answer: OCD is diagnosed through a combination of interviews, psychological tests, and medical history.\n",
      "\n",
      "Exercise 2:\n",
      "------------\n",
      "Read the following passage and answer the question:\n",
      "\"Obsessive-compulsive disorder (OCD) is a mental health disorder characterized by intrusive thoughts (obsessions) and repetitive behaviors (compulsions) that individuals feel compelled to perform in order to reduce anxiety and gain a sense of control. These obsessions and compulsions can interfere with daily life\n",
      "[Document(page_content='processing disorder has been characterized as the source of significant problems in organizing sensation coming from the body and the environment and is manifested by difficulties in the performance in one or more of the main areas of life: productivity, leisure and play or activities of daily living.\\\\nSources debate whether SPD is an independent disorder or represents the observed symptoms of various other, more well-established, disorders.SPD is not included in the Diagnostic and Statistical Manual of Mental Disorders of the American Psychiatric Association, and the American Academy of Pediatrics has recommended in 2012 that pediatricians not use SPD as a stand-alone diagnosis.\"', metadata={'instruction': 'What is Sensory processing disorder?', 'response': 'Sensory processing disorder (SPD, formerly known as sensory integration dysfunction) is a condition in which multisensory input is not adequately processed to provide appropriate responses to the demands of the environment. Sensory processing disorder is present in many people with autism spectrum disorder and attention deficit hyperactivity disorder. Individuals with SPD may inadequately process visual, auditory, olfactory (smell), gustatory (taste), tactile (touch), vestibular (balance), proprioception (body awareness), and interoception (internal body senses) sensory stimuli.', 'category': 'closed_qa'})]\n",
      "****************************************************************************************\n",
      "\n",
      "Answer: When you are more likely to get a blood clot is when you have a history of high blood pressure, smoking, diabetes mellitus, lack of exercise, obesity, high blood cholesterol, poor diet, excessive alcohol consumption, and poor sleep.\n",
      "\n",
      "Exercise 2: Fill in the blank with the appropriate word:\n",
      "\n",
      "\"The underlying mechanisms for developing cardiovascular diseases (CVD) vary depending on the disease. It is estimated that dietary risk factors are associated with __ of CVD\n",
      "[Document(page_content='\"The underlying mechanisms for developing cardiovascular diseases (CVD) vary depending on the disease. It is estimated that dietary risk factors are associated with 53% of CVD deaths. Coronary artery disease, stroke, and peripheral artery disease involve atherosclerosis. This may be caused by high blood pressure, smoking, diabetes mellitus, lack of exercise, obesity, high blood cholesterol, poor diet, excessive alcohol consumption,and poor sleep, among other things. High blood pressure is estimated to account for approximately 13% of CVD deaths, while tobacco accounts for 9%, diabetes 6%, lack of exercise 6%, and obesity 5%. Rheumatic heart disease may follow untreated strep throat.\"', metadata={'instruction': 'Extract all risk factors for developing cardiovascular diseases for which numbers about their  contribution are given and rank them by their relative importance.', 'response': '1. Dietary Risk Factors\\n2. High Blood Pressure\\n3. Tobacco\\n4. Diabetes\\n5. Lack of exercise\\n6. Obesity', 'category': 'information_extraction'})]\n",
      "****************************************************************************************\n",
      "\n",
      "Answer: You should lift objects with your legs, not your back, to prevent back pain.\n",
      "\n",
      "Exercise 2: Identify the fallacy in the following statement: \"All my friends who practice yoga have perfect posture. Therefore, practicing yoga will make you have perfect posture.\"\n",
      "\n",
      "Answer: The fallacy in this statement is called \"hasty generalization.\" Just because some of your friends practice yoga and have perfect posture, it does not mean that practicing yoga will make you have perfect posture\n",
      "[Document(page_content='\"Spinal manipulation, which chiropractors call \\\\\"spinal adjustment\\\\\" or \\\\\"chiropractic adjustment\\\\\", is the most common treatment used in chiropractic care. Spinal manipulation is a passive manual maneuver during which a three-joint complex is taken past the normal range of movement, but not so far as to dislocate or damage the joint.\"', metadata={'instruction': 'What is Chiropractic treatment?', 'response': 'Chiropractic treatment includes spinal adjustment or chiropractic adjustment which is a process in which manual and light adjustments are made to the spinal joints past the normal movement range, avoiding joint damage', 'category': 'summarization'})]\n",
      "****************************************************************************************\n",
      "\n",
      "Answer: You can be smart with antibiotics by following the instructions of your doctor, taking the right dose and type of antibiotic for your condition, not sharing your antibiotics with others, completing the full course of antibiotics even if you feel better, and not taking antibiotics for viral infections such as colds, flu, or sore throats, which are caused by viruses and do not respond to antibiotics.\n",
      "\n",
      "Exercise 2: Identify the type of antibiotic and the purpose of the antibiotic in the following sentences\n",
      "[Document(page_content='contained an antibacterial substance. He investigated its anti-bacterial effect on many organisms, and noticed that it affected bacteria such as staphylococci and many other Gram-positive pathogens that cause scarlet fever, pneumonia, meningitis and diphtheria, but not typhoid fever or paratyphoid fever, which are caused by Gram-negative bacteria, for which he was seeking a cure at the time. It also affected Neisseria gonorrhoeae, which causes gonorrhoea, although this bacterium is Gram-negative. After some months of calling it \\\\\"mould juice\\\\\" or \\\\\"the inhibitor\\\\\", he gave the name penicillin on 7 March 1929 for the antibacterial substance present in the mould.\"', metadata={'instruction': 'Given this paragraph about the experiment that led to the discovery of penicillin by Sir Alexander Fleming, tell me upon which types of bacteria penicillin has an anti-bacterial effect, and list the conditions that were necessary for the discovery of penicillin', 'response': \"Penicillin has an anti-bacterial effect of a number of Gram-positive bacteria including but not limited to the bacteria that cause meningitis, diptheria, pneumonia, scarlet fever.  It also acts on (Gram-positive) staphylococci bacteria which cause skin and soft tissue infections such as boils.  Penicillin was also found to have an anti-bacterial action on the Gram-negative bacteria which causes gonorrhoea.  There were a series of fortuitous circumstances which combined to allow the discovery of penicillin, one of which was Sir Alexander's choice to take a holiday with his family after leaving staphylococci bacteria in a culture in his lab before departure.  Anecdotally Sir Alexander was a little sloppy with lab hygiene which contributed to his previous discovery of lysozyme and it seems the same lack of care was partly responsible for the discovery of penicillin.  Lastly the specific location of his lab and cultures played a role - the fungal contaminant that had an anti-bacterial effect on the staphylococci culture came from Sir Alexander's colleagues lab one floor below\", 'category': 'closed_qa'})]\n"
     ]
    }
   ],
   "source": [
    "# Print the generated text\n",
    "print(\"RAG Generated Texts: \\n\")\n",
    "for i in range(len(response)):\n",
    "    print(\"****************************************************************************************\")\n",
    "    print(response[i])\n",
    "    print(source_doc[i])"
   ]
  },
  {
   "cell_type": "markdown",
   "metadata": {},
   "source": [
    "# Instruction Tuning with MASHQA Dataset"
   ]
  },
  {
   "cell_type": "code",
   "execution_count": 28,
   "metadata": {},
   "outputs": [],
   "source": [
    "import pandas as pd\n",
    "\n",
    "def mashqa_convert(path_to_file):\n",
    "    mashqa = pd.read_json(path_to_file)\n",
    "    data_tuples_three = []\n",
    "    for entry in mashqa['data']:\n",
    "        for paragraph in entry['paragraphs']:\n",
    "            for qa in paragraph['qas']:\n",
    "                question = (\"Question:\", qa['question'])\n",
    "                context = (\"Context:\",' '.join(paragraph['sent_list']))\n",
    "                \n",
    "                # Assuming there can be multiple answers, combining them into a single string\n",
    "                answers = (\"Answer:\",' '.join([answer['text'] for answer in qa['answers']]))\n",
    "                \n",
    "                data_tuples_three.append((question, context, answers))\n",
    "\n",
    "    df_mashqa_cleaned = pd.DataFrame(data_tuples_three, columns=['Question', 'Context', 'Answer'])\n",
    "    df_mashqa_cleaned['Question_Answer'] = df_mashqa_cleaned['Question'].apply(lambda x: x[1]) + ' Answer: ' + df_mashqa_cleaned['Answer'].apply(lambda x: x[1])\n",
    "    df_mashqa_cleaned['Question_Answer'] = df_mashqa_cleaned['Question'].apply(lambda x: x[1]) + ' Answer: ' + df_mashqa_cleaned['Answer'].apply(lambda x: x[1])\n",
    "    df_ready_for_tuning = df_mashqa_cleaned[['Question_Answer']]\n",
    "\n",
    "    df_ready_for_tuning = df_ready_for_tuning.drop_duplicates()\n",
    "    # Rename the 'Old_Name' column to 'New_Name'\n",
    "    df_ready_for_tuning.rename(columns={'Question_Answer': 'text'}, inplace=True)\n",
    "    return df_ready_for_tuning\n"
   ]
  },
  {
   "cell_type": "code",
   "execution_count": 29,
   "metadata": {},
   "outputs": [],
   "source": [
    "df_train = mashqa_convert('/Users/aaron/Downloads/mashqa_data/train_webmd_squad_v2_full.json')\n",
    "df_val = mashqa_convert('/Users/aaron/Downloads/mashqa_data/val_webmd_squad_v2_full.json')"
   ]
  },
  {
   "cell_type": "markdown",
   "metadata": {},
   "source": [
    "### Instruction Tuning Start"
   ]
  },
  {
   "cell_type": "code",
   "execution_count": 30,
   "metadata": {},
   "outputs": [
    {
     "data": {
      "text/plain": [
       "PhiForCausalLM(\n",
       "  (transformer): PhiModel(\n",
       "    (embd): Embedding(\n",
       "      (wte): Embedding(51200, 2048)\n",
       "      (drop): Dropout(p=0.0, inplace=False)\n",
       "    )\n",
       "    (h): ModuleList(\n",
       "      (0-23): 24 x ParallelBlock(\n",
       "        (ln): LayerNorm((2048,), eps=1e-05, elementwise_affine=True)\n",
       "        (resid_dropout): Dropout(p=0.0, inplace=False)\n",
       "        (mixer): MHA(\n",
       "          (rotary_emb): RotaryEmbedding()\n",
       "          (Wqkv): Linear(in_features=2048, out_features=6144, bias=True)\n",
       "          (out_proj): Linear(in_features=2048, out_features=2048, bias=True)\n",
       "          (inner_attn): SelfAttention(\n",
       "            (drop): Dropout(p=0.0, inplace=False)\n",
       "          )\n",
       "          (inner_cross_attn): CrossAttention(\n",
       "            (drop): Dropout(p=0.0, inplace=False)\n",
       "          )\n",
       "        )\n",
       "        (mlp): MLP(\n",
       "          (fc1): Linear(in_features=2048, out_features=8192, bias=True)\n",
       "          (fc2): Linear(in_features=8192, out_features=2048, bias=True)\n",
       "          (act): NewGELUActivation()\n",
       "        )\n",
       "      )\n",
       "    )\n",
       "  )\n",
       "  (lm_head): CausalLMHead(\n",
       "    (ln): LayerNorm((2048,), eps=1e-05, elementwise_affine=True)\n",
       "    (linear): Linear(in_features=2048, out_features=51200, bias=True)\n",
       "  )\n",
       "  (loss): CausalLMLoss(\n",
       "    (loss_fct): CrossEntropyLoss()\n",
       "  )\n",
       ")"
      ]
     },
     "execution_count": 30,
     "metadata": {},
     "output_type": "execute_result"
    }
   ],
   "source": [
    "model"
   ]
  },
  {
   "cell_type": "code",
   "execution_count": 31,
   "metadata": {},
   "outputs": [
    {
     "data": {
      "text/plain": [
       "CodeGenTokenizerFast(name_or_path='microsoft/phi-1_5', vocab_size=50257, model_max_length=2048, is_fast=True, padding_side='right', truncation_side='right', special_tokens={'bos_token': '<|endoftext|>', 'eos_token': '<|endoftext|>', 'unk_token': '<|endoftext|>'}, clean_up_tokenization_spaces=True),  added_tokens_decoder={\n",
       "\t50256: AddedToken(\"<|endoftext|>\", rstrip=False, lstrip=False, single_word=False, normalized=False, special=True),\n",
       "\t50257: AddedToken(\"                               \", rstrip=False, lstrip=False, single_word=False, normalized=True, special=False),\n",
       "\t50258: AddedToken(\"                              \", rstrip=False, lstrip=False, single_word=False, normalized=True, special=False),\n",
       "\t50259: AddedToken(\"                             \", rstrip=False, lstrip=False, single_word=False, normalized=True, special=False),\n",
       "\t50260: AddedToken(\"                            \", rstrip=False, lstrip=False, single_word=False, normalized=True, special=False),\n",
       "\t50261: AddedToken(\"                           \", rstrip=False, lstrip=False, single_word=False, normalized=True, special=False),\n",
       "\t50262: AddedToken(\"                          \", rstrip=False, lstrip=False, single_word=False, normalized=True, special=False),\n",
       "\t50263: AddedToken(\"                         \", rstrip=False, lstrip=False, single_word=False, normalized=True, special=False),\n",
       "\t50264: AddedToken(\"                        \", rstrip=False, lstrip=False, single_word=False, normalized=True, special=False),\n",
       "\t50265: AddedToken(\"                       \", rstrip=False, lstrip=False, single_word=False, normalized=True, special=False),\n",
       "\t50266: AddedToken(\"                      \", rstrip=False, lstrip=False, single_word=False, normalized=True, special=False),\n",
       "\t50267: AddedToken(\"                     \", rstrip=False, lstrip=False, single_word=False, normalized=True, special=False),\n",
       "\t50268: AddedToken(\"                    \", rstrip=False, lstrip=False, single_word=False, normalized=True, special=False),\n",
       "\t50269: AddedToken(\"                   \", rstrip=False, lstrip=False, single_word=False, normalized=True, special=False),\n",
       "\t50270: AddedToken(\"                  \", rstrip=False, lstrip=False, single_word=False, normalized=True, special=False),\n",
       "\t50271: AddedToken(\"                 \", rstrip=False, lstrip=False, single_word=False, normalized=True, special=False),\n",
       "\t50272: AddedToken(\"                \", rstrip=False, lstrip=False, single_word=False, normalized=True, special=False),\n",
       "\t50273: AddedToken(\"               \", rstrip=False, lstrip=False, single_word=False, normalized=True, special=False),\n",
       "\t50274: AddedToken(\"              \", rstrip=False, lstrip=False, single_word=False, normalized=True, special=False),\n",
       "\t50275: AddedToken(\"             \", rstrip=False, lstrip=False, single_word=False, normalized=True, special=False),\n",
       "\t50276: AddedToken(\"            \", rstrip=False, lstrip=False, single_word=False, normalized=True, special=False),\n",
       "\t50277: AddedToken(\"           \", rstrip=False, lstrip=False, single_word=False, normalized=True, special=False),\n",
       "\t50278: AddedToken(\"          \", rstrip=False, lstrip=False, single_word=False, normalized=True, special=False),\n",
       "\t50279: AddedToken(\"         \", rstrip=False, lstrip=False, single_word=False, normalized=True, special=False),\n",
       "\t50280: AddedToken(\"        \", rstrip=False, lstrip=False, single_word=False, normalized=True, special=False),\n",
       "\t50281: AddedToken(\"       \", rstrip=False, lstrip=False, single_word=False, normalized=True, special=False),\n",
       "\t50282: AddedToken(\"      \", rstrip=False, lstrip=False, single_word=False, normalized=True, special=False),\n",
       "\t50283: AddedToken(\"     \", rstrip=False, lstrip=False, single_word=False, normalized=True, special=False),\n",
       "\t50284: AddedToken(\"    \", rstrip=False, lstrip=False, single_word=False, normalized=True, special=False),\n",
       "\t50285: AddedToken(\"   \", rstrip=False, lstrip=False, single_word=False, normalized=True, special=False),\n",
       "\t50286: AddedToken(\"  \", rstrip=False, lstrip=False, single_word=False, normalized=True, special=False),\n",
       "\t50287: AddedToken(\"\t\t\t\t\t\t\t\t\t\", rstrip=False, lstrip=False, single_word=False, normalized=True, special=False),\n",
       "\t50288: AddedToken(\"\t\t\t\t\t\t\t\t\", rstrip=False, lstrip=False, single_word=False, normalized=True, special=False),\n",
       "\t50289: AddedToken(\"\t\t\t\t\t\t\t\", rstrip=False, lstrip=False, single_word=False, normalized=True, special=False),\n",
       "\t50290: AddedToken(\"\t\t\t\t\t\t\", rstrip=False, lstrip=False, single_word=False, normalized=True, special=False),\n",
       "\t50291: AddedToken(\"\t\t\t\t\t\", rstrip=False, lstrip=False, single_word=False, normalized=True, special=False),\n",
       "\t50292: AddedToken(\"\t\t\t\t\", rstrip=False, lstrip=False, single_word=False, normalized=True, special=False),\n",
       "\t50293: AddedToken(\"\t\t\t\", rstrip=False, lstrip=False, single_word=False, normalized=True, special=False),\n",
       "\t50294: AddedToken(\"\t\t\", rstrip=False, lstrip=False, single_word=False, normalized=True, special=False),\n",
       "}"
      ]
     },
     "execution_count": 31,
     "metadata": {},
     "output_type": "execute_result"
    }
   ],
   "source": [
    "tokenizer"
   ]
  },
  {
   "cell_type": "markdown",
   "metadata": {},
   "source": [
    "##### Check that we are using a GPU. Under 12gb of video memory, model likely will not be able to be trained."
   ]
  },
  {
   "cell_type": "code",
   "execution_count": 32,
   "metadata": {},
   "outputs": [
    {
     "data": {
      "text/plain": [
       "True"
      ]
     },
     "execution_count": 32,
     "metadata": {},
     "output_type": "execute_result"
    }
   ],
   "source": [
    "import torch\n",
    "torch.cuda.is_available()"
   ]
  },
  {
   "cell_type": "code",
   "execution_count": 33,
   "metadata": {},
   "outputs": [],
   "source": [
    "from transformers import AutoTokenizer, AutoModelForCausalLM, BitsAndBytesConfig, TrainingArguments, Trainer, DataCollatorForLanguageModeling\n",
    "from datasets import load_dataset\n",
    "from peft import LoraConfig, PeftModel, get_peft_model\n",
    "\n",
    "tokenizer = AutoTokenizer.from_pretrained(\"microsoft/phi-1_5\", trust_remote_code=True, device_map='auto')\n",
    "model = AutoModelForCausalLM.from_pretrained(\"microsoft/phi-1_5\", trust_remote_code=True, device_map=\"auto\")\n",
    "\n",
    "tokenizer.padding_side = 'left'\n",
    "tokenizer.pad_token = tokenizer.unk_token"
   ]
  },
  {
   "cell_type": "code",
   "execution_count": 34,
   "metadata": {},
   "outputs": [],
   "source": [
    "peft_config = LoraConfig(\n",
    "        lora_alpha=16,\n",
    "        lora_dropout=0.05,\n",
    "        r=16,\n",
    "        bias=\"none\",\n",
    "        task_type=\"CAUSAL_LM\",\n",
    "        target_modules= [\"Wqkv\", \"out_proj\"]\n",
    ")\n",
    "\n",
    "peft_model = get_peft_model(model, peft_config)\n",
    "peft_model.gradient_checkpointing=True\n",
    "\n",
    "training_arguments = TrainingArguments(\n",
    "        output_dir=\"./results\",\n",
    "        evaluation_strategy=\"steps\",\n",
    "        save_strategy='epoch',\n",
    "        do_eval=True,\n",
    "        per_device_train_batch_size=4,\n",
    "        gradient_accumulation_steps=8,\n",
    "        per_device_eval_batch_size=4,\n",
    "        logging_steps=50,\n",
    "        learning_rate=4e-4,\n",
    "        eval_steps=100,\n",
    "        num_train_epochs=1,\n",
    "        warmup_steps=100,\n",
    "        lr_scheduler_type=\"cosine\",\n",
    "        remove_unused_columns=True\n",
    ")\n"
   ]
  },
  {
   "cell_type": "markdown",
   "metadata": {},
   "source": [
    "#### Before inputting the newly formatted MASHQA dataset into the LLM's tokenizer, it needs to be in the format the LLM expects"
   ]
  },
  {
   "cell_type": "code",
   "execution_count": 35,
   "metadata": {},
   "outputs": [
    {
     "name": "stdout",
     "output_type": "stream",
     "text": [
      "Dataset({\n",
      "    features: ['text', '__index_level_0__'],\n",
      "    num_rows: 27722\n",
      "})\n",
      "Dataset({\n",
      "    features: ['text'],\n",
      "    num_rows: 3587\n",
      "})\n"
     ]
    }
   ],
   "source": [
    "from datasets import Dataset\n",
    "\n",
    "dataset_train = Dataset.from_pandas(df_train)\n",
    "dataset_val = Dataset.from_pandas(df_val)\n",
    "print(dataset_train)\n",
    "print(dataset_val)"
   ]
  },
  {
   "cell_type": "code",
   "execution_count": 41,
   "metadata": {},
   "outputs": [
    {
     "name": "stderr",
     "output_type": "stream",
     "text": []
    },
    {
     "name": "stderr",
     "output_type": "stream",
     "text": [
      "Map: 100%|██████████| 2000/2000 [00:00<00:00, 4474.28 examples/s]\n",
      "Map: 100%|██████████| 250/250 [00:00<00:00, 4310.27 examples/s]\n"
     ]
    }
   ],
   "source": [
    "def tok(sample):\n",
    "    model_inps =  tokenizer(sample[\"text\"], padding=True, max_length=500, truncation=True)\n",
    "    return model_inps\n",
    "\n",
    "tokenized_training_data = dataset_train.select(range(2000)).map(tok, batched=True)\n",
    "tokenized_val_data = dataset_val.select(range(250)).map(tok, batched=True)\n",
    "\n",
    "# tokenized_training_data = dataset_train.map(tok, batched=True)\n",
    "# tokenized_val_data = dataset_val.map(tok, batched=True)"
   ]
  },
  {
   "cell_type": "code",
   "execution_count": 42,
   "metadata": {},
   "outputs": [
    {
     "name": "stderr",
     "output_type": "stream",
     "text": [
      "                                                      \n",
      "  5%|▍         | 42/866 [3:13:45<30:07:14, 131.60s/it]"
     ]
    },
    {
     "name": "stdout",
     "output_type": "stream",
     "text": [
      "{'loss': 2.1668, 'learning_rate': 0.0002, 'epoch': 0.8}\n"
     ]
    },
    {
     "name": "stderr",
     "output_type": "stream",
     "text": [
      "                                                      \n",
      "100%|██████████| 62/62 [2:07:32<00:00, 123.43s/it]/it]"
     ]
    },
    {
     "name": "stdout",
     "output_type": "stream",
     "text": [
      "{'train_runtime': 7652.8996, 'train_samples_per_second': 0.261, 'train_steps_per_second': 0.008, 'train_loss': 2.1501388857441563, 'epoch': 0.99}\n"
     ]
    },
    {
     "name": "stderr",
     "output_type": "stream",
     "text": [
      "\n"
     ]
    },
    {
     "data": {
      "text/plain": [
       "TrainOutput(global_step=62, training_loss=2.1501388857441563, metrics={'train_runtime': 7652.8996, 'train_samples_per_second': 0.261, 'train_steps_per_second': 0.008, 'train_loss': 2.1501388857441563, 'epoch': 0.99})"
      ]
     },
     "execution_count": 42,
     "metadata": {},
     "output_type": "execute_result"
    }
   ],
   "source": [
    "trainer = Trainer(\n",
    "    model=peft_model,\n",
    "    train_dataset=tokenized_training_data,\n",
    "    eval_dataset=tokenized_val_data,\n",
    "    args=training_arguments,\n",
    "    data_collator=DataCollatorForLanguageModeling(tokenizer, mlm=False),\n",
    "    \n",
    ")\n",
    "trainer.train()"
   ]
  },
  {
   "cell_type": "code",
   "execution_count": 52,
   "metadata": {},
   "outputs": [],
   "source": [
    "peft_model.save_pretrained('lora', save_adapter=True, save_config=True)"
   ]
  },
  {
   "cell_type": "code",
   "execution_count": 56,
   "metadata": {},
   "outputs": [],
   "source": [
    "model_to_merge = PeftModel.from_pretrained(AutoModelForCausalLM.from_pretrained(\"microsoft/phi-1_5\", trust_remote_code=True), 'lora')"
   ]
  },
  {
   "cell_type": "code",
   "execution_count": 57,
   "metadata": {},
   "outputs": [],
   "source": [
    "merged_model = model_to_merge.merge_and_unload()"
   ]
  },
  {
   "cell_type": "code",
   "execution_count": 58,
   "metadata": {},
   "outputs": [],
   "source": [
    "text_generation_pipe = pipeline('text-generation', model=merged_model, tokenizer=tokenizer)"
   ]
  },
  {
   "cell_type": "code",
   "execution_count": 59,
   "metadata": {},
   "outputs": [],
   "source": [
    "prompts = [\n",
    "    \"What types of exercise are best for people with asthma?\",\n",
    "    \"How is obsessive-compulsive disorder diagnosed?\",\n",
    "    \"When are you more likely to get a blood clot?\",\n",
    "    \"How should you lift objects to prevent back pain?\",\n",
    "    \"How can you be smart with antibiotics?\"\n",
    "]"
   ]
  },
  {
   "cell_type": "code",
   "execution_count": 60,
   "metadata": {},
   "outputs": [],
   "source": [
    "# Generate text responses based on the 5 prompts we defined\n",
    "generated_texts=[]\n",
    "for prompt in prompts:\n",
    "    generated_text = text_generation_pipe(prompt, max_length=100)[0]['generated_text']\n",
    "    generated_texts.append(generated_text)"
   ]
  },
  {
   "cell_type": "code",
   "execution_count": 61,
   "metadata": {},
   "outputs": [
    {
     "name": "stdout",
     "output_type": "stream",
     "text": [
      "Instruction Tuned Generated Texts: \n",
      "\n",
      "****************************************************************************************\n",
      "What types of exercise are best for people with asthma? Answer: Aerobic exercise: Aerobic exercise is a type of exercise that gets your heart rate up and makes you breathe harder. It's good for people with asthma because it helps your lungs get stronger. Aerobic exercise can also help you lose weight, which can help you breathe easier. Aerobic exercise can include: Running Walking Swimming Cycling Aerobics Dancing Aerobics Yoga Aerobics Aerobics Aerobics Aerobics\n",
      "****************************************************************************************\n",
      "How is obsessive-compulsive disorder diagnosed? Answer: Your doctor will ask you about your symptoms and your family history. You may also be asked to fill out a questionnaire. Your doctor may also order a blood test to check for a chemical imbalance in your brain. Your doctor may also order a brain scan, such as an MRI or CT scan, to check for any structural problems in your brain. Your doctor may also order a psychological evaluation to check for any underlying mental health issues. Your doctor may\n",
      "****************************************************************************************\n",
      "When are you more likely to get a blood clot? Answer: You're more likely to get a blood clot if you have: -- A family history of blood clots. You're more likely to get a blood clot if you're: -- A smoker. -- A woman who's had a blood clot in the past. -- A man who's had a blood clot in the past. -- A person who's had a stroke. -- A person who's had a heart attack. -- A person\n",
      "****************************************************************************************\n",
      "How should you lift objects to prevent back pain? Answer: If you're lifting something heavy, bend your knees and keep your back straight. You should also keep your back close to your body. Don't lift with your back. Instead, bend your knees and lift with your legs. If you're lifting something heavy, don't lift it all at once. Instead, lift it in small pieces. If you're lifting something heavy, don't lift it with your back. Instead, bend your knees\n",
      "****************************************************************************************\n",
      "How can you be smart with antibiotics? Answer: If you have a bacterial infection, your doctor may prescribe antibiotics. You can help your body fight the infection by: Taking your medicine exactly as directed. Not sharing your medicine with others. Not stopping your medicine before your doctor tells you to. Not taking your medicine for the full length of time your doctor tells you to. Not stopping your medicine if you feel better. Not taking your medicine if you have diarrhea. Not taking your medicine if you have a\n"
     ]
    }
   ],
   "source": [
    "# Print the generated text\n",
    "print(\"Instruction Tuned Generated Texts: \\n\")\n",
    "for i in generated_texts:\n",
    "    print(\"****************************************************************************************\")\n",
    "    print(i)"
   ]
  },
  {
   "cell_type": "markdown",
   "metadata": {},
   "source": []
  }
 ],
 "metadata": {
  "kernelspec": {
   "display_name": "saturn (Python 3)",
   "language": "python",
   "name": "python3"
  },
  "language_info": {
   "codemirror_mode": {
    "name": "ipython",
    "version": 3
   },
   "file_extension": ".py",
   "mimetype": "text/x-python",
   "name": "python",
   "nbconvert_exporter": "python",
   "pygments_lexer": "ipython3",
   "version": "3.10.13"
  },
  "vscode": {
   "interpreter": {
    "hash": "a9739a3ee864b5f74d703657e4ddbfdf7f7ccbe6642a458f796596a18bcc5b2e"
   }
  }
 },
 "nbformat": 4,
 "nbformat_minor": 2
}
